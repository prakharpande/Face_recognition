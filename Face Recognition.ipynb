{
 "cells": [
  {
   "cell_type": "code",
   "execution_count": 1,
   "metadata": {},
   "outputs": [
    {
     "name": "stderr",
     "output_type": "stream",
     "text": [
      "Using TensorFlow backend.\n"
     ]
    }
   ],
   "source": [
    "from keras.models import Sequential\n",
    "from keras.layers import Conv2D, ZeroPadding2D, Activation, Input, concatenate\n",
    "from keras.models import Model\n",
    "from keras.layers.normalization import BatchNormalization\n",
    "from keras.layers.pooling import MaxPooling2D, AveragePooling2D\n",
    "from keras.layers.merge import Concatenate\n",
    "from keras.layers.core import Lambda, Flatten, Dense\n",
    "from keras.initializers import glorot_uniform\n",
    "from keras.engine.topology import Layer\n",
    "from keras import backend as K\n",
    "from keras.models import load_model\n",
    "K.set_image_data_format('channels_first')\n",
    "\n",
    "import pickle\n",
    "import cv2\n",
    "import os.path\n",
    "import os\n",
    "import numpy as np\n",
    "from numpy import genfromtxt\n",
    "import pandas as pd\n",
    "import tensorflow as tf\n",
    "from utility import *\n",
    "from webcam_utility import *"
   ]
  },
  {
   "cell_type": "code",
   "execution_count": 2,
   "metadata": {},
   "outputs": [],
   "source": [
    "def triplet_loss(y_true, y_pred, alpha = 0.2):\n",
    "    anchor, positive, negative = y_pred[0], y_pred[1], y_pred[2]\n",
    "    \n",
    "    # triplet formula components\n",
    "    pos_dist = tf.reduce_sum( tf.square(tf.subtract(y_pred[0], y_pred[1])) )\n",
    "    neg_dist = tf.reduce_sum( tf.square(tf.subtract(y_pred[0], y_pred[2])) )\n",
    "    basic_loss = pos_dist - neg_dist + alpha\n",
    "    \n",
    "    loss = tf.maximum(basic_loss, 0.0)\n",
    "   \n",
    "    return loss"
   ]
  },
  {
   "cell_type": "code",
   "execution_count": 3,
   "metadata": {},
   "outputs": [
    {
     "name": "stdout",
     "output_type": "stream",
     "text": [
      "WARNING:tensorflow:From C:\\Users\\Prakhar Pande\\Anaconda3\\lib\\site-packages\\tensorflow\\python\\framework\\op_def_library.py:263: colocate_with (from tensorflow.python.framework.ops) is deprecated and will be removed in a future version.\n",
      "Instructions for updating:\n",
      "Colocations handled automatically by placer.\n"
     ]
    }
   ],
   "source": [
    "FRmodel = load_model('models/model.h5', custom_objects={'triplet_loss': triplet_loss})"
   ]
  },
  {
   "cell_type": "code",
   "execution_count": 4,
   "metadata": {},
   "outputs": [],
   "source": [
    "def ini_user_database():\n",
    "    if os.path.exists('database/user_dict.pickle'):\n",
    "        with open('database/user_dict.pickle', 'rb') as handle:\n",
    "            user_db = pickle.load(handle)   \n",
    "    else:\n",
    "        user_db = {}\n",
    "     \n",
    "    return user_db"
   ]
  },
  {
   "cell_type": "code",
   "execution_count": 5,
   "metadata": {},
   "outputs": [],
   "source": [
    "def add_user_img_path(user_db, FRmodel, name, img_path):\n",
    "    if name not in user_db: \n",
    "        user_db[name] = img_to_encoding(img_path, FRmodel)\n",
    "        # save the database\n",
    "        with open('database/user_dict.pickle', 'wb') as handle:\n",
    "                pickle.dump(user_db, handle, protocol=pickle.HIGHEST_PROTOCOL)\n",
    "        print('User ' + name + ' added successfully')\n",
    "    else:\n",
    "        print('The name is already registered! Try a different name.........')"
   ]
  },
  {
   "cell_type": "code",
   "execution_count": 6,
   "metadata": {},
   "outputs": [],
   "source": [
    "def add_user_webcam(user_db, FRmodel, name):\n",
    "    face_found = detect_face(user_db, FRmodel)\n",
    "\n",
    "    if face_found:\n",
    "        resize_img(\"saved_image/1.jpg\")\n",
    "        if name not in user_db: \n",
    "            add_user_img_path(user_db, FRmodel, name, \"saved_image/1.jpg\")\n",
    "        else:\n",
    "            print('The name is already registered! Try a different name.........')\n",
    "    else:\n",
    "        print('There was no face found in the visible frame. Try again...........')"
   ]
  },
  {
   "cell_type": "code",
   "execution_count": 7,
   "metadata": {},
   "outputs": [],
   "source": [
    "def delete_user(user_db, name):\n",
    "    popped = user_db.pop(name, None)\n",
    "    \n",
    "    if popped is not None:\n",
    "        print('User ' + name + ' deleted successfully')\n",
    "        # save the database\n",
    "        with open('database/user_dict.pickle', 'wb') as handle:\n",
    "                pickle.dump(user_db, handle, protocol=pickle.HIGHEST_PROTOCOL)\n",
    "    elif popped == None:\n",
    "        print('No such user !!')"
   ]
  },
  {
   "cell_type": "code",
   "execution_count": 8,
   "metadata": {},
   "outputs": [],
   "source": [
    "user_db = ini_user_database()"
   ]
  },
  {
   "cell_type": "code",
   "execution_count": 101,
   "metadata": {},
   "outputs": [
    {
     "name": "stdout",
     "output_type": "stream",
     "text": [
      "The name is already registered! Try a different name.........\n"
     ]
    }
   ],
   "source": [
    "add_user_img_path(user_db, FRmodel, \"Akshat\", \"images/3.jpg\")"
   ]
  },
  {
   "cell_type": "code",
   "execution_count": 10,
   "metadata": {},
   "outputs": [
    {
     "name": "stdout",
     "output_type": "stream",
     "text": [
      "The name is already registered! Try a different name.........\n"
     ]
    }
   ],
   "source": [
    "add_user_webcam(user_db, FRmodel, \"Prakhar\") "
   ]
  },
  {
   "cell_type": "code",
   "execution_count": 42,
   "metadata": {},
   "outputs": [
    {
     "name": "stdout",
     "output_type": "stream",
     "text": [
      "User Akshat deleted successfully\n"
     ]
    }
   ],
   "source": [
    "delete_user(user_db, \"Akshat\")"
   ]
  },
  {
   "cell_type": "code",
   "execution_count": 16,
   "metadata": {},
   "outputs": [],
   "source": [
    "def find_face(image_path, database, model, threshold = 0.6):\n",
    "    encoding = img_to_encoding(image_path, model)\n",
    "    \n",
    "    min_dist = 99999\n",
    "    for name in database:\n",
    "        dist = np.linalg.norm(np.subtract(database[name], encoding) )\n",
    "        if dist < min_dist:\n",
    "            min_dist = dist\n",
    "            identity = name\n",
    "\n",
    "    if min_dist > threshold:\n",
    "        print(\"User not in the database.\")\n",
    "        identity = 'Unknown Person'\n",
    "    else:\n",
    "        print (\"Hi! \" + str(identity) + \", L2 distance: \" + str(min_dist))\n",
    "        \n",
    "    return min_dist, identity"
   ]
  },
  {
   "cell_type": "code",
   "execution_count": 17,
   "metadata": {
    "scrolled": false
   },
   "outputs": [],
   "source": [
    "def do_face_recognition(user_db, FRmodel, threshold = 0.7, save_loc = \"saved_image/1.jpg\"):\n",
    "    face_found = detect_face(user_db, FRmodel)\n",
    "    \n",
    "    if face_found:\n",
    "        resize_img(\"saved_image/1.jpg\")\n",
    "        min_dist, identity  = find_face(\"saved_image/1.jpg\", user_db, FRmodel, threshold)\n",
    "    else:\n",
    "        print('There was no face found in the visible frame. Try again...........')\n",
    "    return identity    "
   ]
  },
  {
   "cell_type": "code",
   "execution_count": 18,
   "metadata": {},
   "outputs": [
    {
     "name": "stdout",
     "output_type": "stream",
     "text": [
      "Hi! Prakhar, L2 distance: 0.4585928\n"
     ]
    }
   ],
   "source": [
    "identity  = do_face_recognition(user_db, FRmodel, 0.6, \"saved_image/1.jpg\")"
   ]
  },
  {
   "cell_type": "code",
   "execution_count": 19,
   "metadata": {},
   "outputs": [
    {
     "name": "stdout",
     "output_type": "stream",
     "text": [
      "Prakhar\n"
     ]
    }
   ],
   "source": []
  },
  {
   "cell_type": "code",
   "execution_count": 43,
   "metadata": {},
   "outputs": [
    {
     "name": "stdout",
     "output_type": "stream",
     "text": [
      "**************** Enter \"q\" to quit **********************\n",
      "Welcome Prakhar!\n",
      "distance:0.64269394\n",
      "Welcome prakhar!\n",
      "distance:0.5596692\n",
      "Welcome Prakhar!\n",
      "distance:0.6067535\n",
      "Welcome prakhar!\n",
      "distance:0.5537436\n",
      "Welcome Prakhar!\n",
      "distance:0.5565138\n",
      "Welcome akshat!\n",
      "distance:0.49492627\n",
      "Unknown user detected !\n",
      "distance:0.73857933\n",
      "Welcome prakhar!\n",
      "distance:0.6354592\n",
      "Welcome prakhar!\n",
      "distance:0.6579643\n",
      "Welcome prakhar!\n",
      "distance:0.6066288\n",
      "Welcome Prakhar!\n",
      "distance:0.46012935\n",
      "Welcome Prakhar!\n",
      "distance:0.5061029\n",
      "Welcome Prakhar!\n",
      "distance:0.45667928\n",
      "Welcome Prakhar!\n",
      "distance:0.49003217\n",
      "Unknown user detected !\n",
      "distance:0.70944554\n",
      "Welcome prakhar!\n",
      "distance:0.5770175\n",
      "Welcome prakhar!\n",
      "distance:0.65907735\n",
      "Welcome prakhar!\n",
      "distance:0.65816915\n",
      "Welcome prakhar!\n",
      "distance:0.67391497\n",
      "Welcome prakhar!\n",
      "distance:0.6417995\n",
      "Unknown user detected !\n",
      "distance:0.708098\n",
      "Unknown user detected !\n",
      "distance:0.7044114\n",
      "Unknown user detected !\n",
      "distance:0.70236963\n",
      "Welcome Saharsh!\n",
      "distance:0.6556032\n",
      "Welcome Saharsh!\n",
      "distance:0.6588169\n",
      "Unknown user detected !\n",
      "distance:0.7110939\n",
      "Unknown user detected !\n",
      "distance:0.7467195\n",
      "Welcome Saharsh!\n",
      "distance:0.65220046\n",
      "Unknown user detected !\n",
      "distance:0.76510036\n",
      "Unknown user detected !\n",
      "distance:0.707158\n",
      "Welcome prakhar!\n",
      "distance:0.65137935\n",
      "Welcome Saharsh!\n",
      "distance:0.69537985\n",
      "Unknown user detected !\n",
      "distance:0.7177939\n",
      "Welcome prakhar!\n",
      "distance:0.67783886\n",
      "Welcome prakhar!\n",
      "distance:0.62522817\n",
      "Welcome prakhar!\n",
      "distance:0.54631734\n",
      "Welcome Saharsh!\n",
      "distance:0.6712184\n",
      "Welcome prakhar!\n",
      "distance:0.6486262\n",
      "Welcome Saharsh!\n",
      "distance:0.673405\n",
      "Welcome Saharsh!\n",
      "distance:0.5862285\n",
      "Welcome Saharsh!\n",
      "distance:0.6902755\n",
      "Unknown user detected !\n",
      "distance:0.74504596\n",
      "Unknown user detected !\n",
      "distance:0.8084306\n",
      "Welcome prakhar!\n",
      "distance:0.57583374\n",
      "Welcome prakhar!\n",
      "distance:0.60292256\n",
      "Welcome prakhar!\n",
      "distance:0.62153727\n"
     ]
    }
   ],
   "source": [
    "detect_face_realtime(user_db, FRmodel, threshold = 0.7)"
   ]
  },
  {
   "cell_type": "markdown",
   "metadata": {},
   "source": [
    "\n",
    "q\n"
   ]
  },
  {
   "cell_type": "code",
   "execution_count": null,
   "metadata": {},
   "outputs": [],
   "source": []
  },
  {
   "cell_type": "code",
   "execution_count": null,
   "metadata": {},
   "outputs": [],
   "source": []
  },
  {
   "cell_type": "code",
   "execution_count": null,
   "metadata": {},
   "outputs": [],
   "source": []
  },
  {
   "cell_type": "code",
   "execution_count": null,
   "metadata": {},
   "outputs": [],
   "source": []
  },
  {
   "cell_type": "code",
   "execution_count": null,
   "metadata": {},
   "outputs": [],
   "source": []
  },
  {
   "cell_type": "code",
   "execution_count": null,
   "metadata": {},
   "outputs": [],
   "source": []
  },
  {
   "cell_type": "code",
   "execution_count": null,
   "metadata": {},
   "outputs": [],
   "source": []
  },
  {
   "cell_type": "code",
   "execution_count": null,
   "metadata": {},
   "outputs": [],
   "source": []
  },
  {
   "cell_type": "code",
   "execution_count": null,
   "metadata": {},
   "outputs": [],
   "source": []
  },
  {
   "cell_type": "code",
   "execution_count": null,
   "metadata": {},
   "outputs": [],
   "source": []
  },
  {
   "cell_type": "code",
   "execution_count": null,
   "metadata": {},
   "outputs": [],
   "source": []
  },
  {
   "cell_type": "code",
   "execution_count": null,
   "metadata": {},
   "outputs": [],
   "source": []
  },
  {
   "cell_type": "code",
   "execution_count": null,
   "metadata": {},
   "outputs": [],
   "source": []
  },
  {
   "cell_type": "code",
   "execution_count": null,
   "metadata": {},
   "outputs": [],
   "source": []
  },
  {
   "cell_type": "code",
   "execution_count": null,
   "metadata": {},
   "outputs": [],
   "source": []
  },
  {
   "cell_type": "code",
   "execution_count": null,
   "metadata": {},
   "outputs": [],
   "source": []
  },
  {
   "cell_type": "code",
   "execution_count": null,
   "metadata": {},
   "outputs": [],
   "source": []
  },
  {
   "cell_type": "code",
   "execution_count": null,
   "metadata": {},
   "outputs": [],
   "source": []
  }
 ],
 "metadata": {
  "coursera": {
   "course_slug": "convolutional-neural-networks",
   "graded_item_id": "IaknP",
   "launcher_item_id": "5UMr4"
  },
  "kernelspec": {
   "display_name": "Python 3",
   "language": "python",
   "name": "python3"
  },
  "language_info": {
   "codemirror_mode": {
    "name": "ipython",
    "version": 3
   },
   "file_extension": ".py",
   "mimetype": "text/x-python",
   "name": "python",
   "nbconvert_exporter": "python",
   "pygments_lexer": "ipython3",
   "version": "3.7.1"
  }
 },
 "nbformat": 4,
 "nbformat_minor": 2
}
